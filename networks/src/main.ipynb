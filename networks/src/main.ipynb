{
 "cells": [
  {
   "cell_type": "markdown",
   "metadata": {
    "id": "mHj-Dm-VGMxT"
   },
   "source": [
    "# Network Comparison"
   ]
  },
  {
   "cell_type": "markdown",
   "metadata": {
    "id": "mb54cXQ0zMGl"
   },
   "source": [
    "## Configure Runtime"
   ]
  },
  {
   "cell_type": "code",
   "execution_count": null,
   "metadata": {
    "colab": {
     "base_uri": "https://localhost:8080/",
     "height": 85
    },
    "executionInfo": {
     "elapsed": 32994,
     "status": "ok",
     "timestamp": 1601102638509,
     "user": {
      "displayName": "Taichi Maeda",
      "photoUrl": "",
      "userId": "17727816757437240518"
     },
     "user_tz": -120
    },
    "id": "CVRjSY2XyidH",
    "outputId": "2cf6c933-d8f9-438a-fb1d-ec7ecd1cb24c"
   },
   "outputs": [],
   "source": [
    "# mount drive\n",
    "from google.colab import drive\n",
    "drive.mount('/content/drive')\n",
    "\n",
    "# install lshw\n",
    "!apt-get install lshw > /dev/null\n",
    "\n",
    "# install hyperopt\n",
    "!pip install hyperopt > /dev/null\n",
    "\n",
    "# install hyperdash and login\n",
    "# taichi.maeda.up@gmail.com\n",
    "# Ud8JZPVT\n",
    "!pip install hyperdash > /dev/null\n",
    "!hd login --email"
   ]
  },
  {
   "cell_type": "markdown",
   "metadata": {
    "id": "CvsVdVQLzR98"
   },
   "source": [
    "## Tune Hyperparameters"
   ]
  },
  {
   "cell_type": "code",
   "execution_count": null,
   "metadata": {
    "executionInfo": {
     "elapsed": 8,
     "status": "ok",
     "timestamp": 1601161271508,
     "user": {
      "displayName": "Taichi Maeda",
      "photoUrl": "",
      "userId": "17727816757437240518"
     },
     "user_tz": -120
    },
    "id": "s17n4jGnl6yi"
   },
   "outputs": [],
   "source": [
    "%%capture\n",
    "%cd '/content/drive/My Drive/Colab Notebooks/EE/networks/src'\n",
    "\n",
    "from optimization import Optimization\n",
    "\n",
    "dataset_name = 'imdb'\n",
    "model_name = 'lstm'\n",
    "for optimizer_name in ('adadelta', 'adagrad', 'adam', 'adamax', 'momentum', 'nadam', 'nesterov', 'rmsprop', 'sgd'):\n",
    "    optimization = Optimization(dataset_name, model_name, optimizer_name)\n",
    "    optimization.begin()"
   ]
  },
  {
   "cell_type": "markdown",
   "metadata": {},
   "source": [
    "## Begin Experiment"
   ]
  },
  {
   "cell_type": "code",
   "execution_count": null,
   "metadata": {},
   "outputs": [],
   "source": [
    "%%capture\n",
    "%cd '/content/drive/My Drive/Colab Notebooks/EE/networks/src'\n",
    "\n",
    "from experiment import Experiment\n",
    "\n",
    "dataset_name = 'imdb'\n",
    "model_name = 'lstm'\n",
    "for optimizer_name in ('adadelta', 'adagrad', 'adam', 'adamax', 'momentum', 'nadam', 'nesterov', 'rmsprop', 'sgd'):\n",
    "    for trial_num in range(1, 11):\n",
    "        experiment = Experiment(dataset_name, model_name, optimizer_name, trial_num)\n",
    "        experiment.begin()"
   ]
  }
 ],
 "metadata": {
  "accelerator": "GPU",
  "colab": {
   "authorship_tag": "ABX9TyOnfuz90/zgG05h7hVABg5R",
   "collapsed_sections": [],
   "machine_shape": "hm",
   "name": "main.ipynb",
   "provenance": [],
   "toc_visible": true
  },
  "kernelspec": {
   "display_name": "Python 3",
   "language": "python",
   "name": "python3"
  },
  "language_info": {
   "codemirror_mode": {
    "name": "ipython",
    "version": 3
   },
   "file_extension": ".py",
   "mimetype": "text/x-python",
   "name": "python",
   "nbconvert_exporter": "python",
   "pygments_lexer": "ipython3",
   "version": "3.8.2"
  }
 },
 "nbformat": 4,
 "nbformat_minor": 4
}
