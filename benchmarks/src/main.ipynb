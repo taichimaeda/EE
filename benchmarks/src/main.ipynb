{
 "cells": [
  {
   "cell_type": "markdown",
   "metadata": {
    "id": "mHj-Dm-VGMxT"
   },
   "source": [
    "# Benchmark Comparison"
   ]
  },
  {
   "cell_type": "markdown",
   "metadata": {
    "id": "mb54cXQ0zMGl"
   },
   "source": [
    "## Configure Runtime\n"
   ]
  },
  {
   "cell_type": "code",
   "execution_count": null,
   "metadata": {
    "colab": {
     "base_uri": "https://localhost:8080/",
     "height": 34
    },
    "executionInfo": {
     "elapsed": 42423,
     "status": "ok",
     "timestamp": 1601203989271,
     "user": {
      "displayName": "Taichi Maeda",
      "photoUrl": "",
      "userId": "17727816757437240518"
     },
     "user_tz": -120
    },
    "id": "CVRjSY2XyidH",
    "outputId": "c8531a89-57f1-48f0-e77d-dd8ffc8ab7aa"
   },
   "outputs": [],
   "source": [
    "# mount drive\n",
    "from google.colab import drive\n",
    "drive.mount('/content/drive')\n",
    "\n",
    "# install lshw\n",
    "!apt-get install lshw > /dev/null\n",
    "\n",
    "# install hyperopt\n",
    "!pip install hyperopt > /dev/null"
   ]
  },
  {
   "cell_type": "markdown",
   "metadata": {},
   "source": [
    "## Tune Hyperparameters"
   ]
  },
  {
   "cell_type": "code",
   "execution_count": null,
   "metadata": {},
   "outputs": [],
   "source": [
    "%cd '/content/drive/My Drive/Colab Notebooks/EE/benchmarks/src'\n",
    "\n",
    "from optimization import Optimization\n",
    "\n",
    "for benchmark_name in ('ackley', 'bukin', 'levi', 'rastrigin', 'rosenbrock'):\n",
    "    for optimizer_name in ('adadelta', 'adagrad', 'adam', 'adamax', 'momentum', 'nadam', 'nesterov', 'rmsprop', 'sgd'):\n",
    "        optimization = Optimization(benchmark_name, optimizer_name)\n",
    "        optimization.begin()"
   ]
  },
  {
   "cell_type": "markdown",
   "metadata": {},
   "source": [
    "## Begin Experiment"
   ]
  },
  {
   "cell_type": "code",
   "execution_count": null,
   "metadata": {
    "colab": {
     "base_uri": "https://localhost:8080/",
     "height": 102
    },
    "executionInfo": {
     "elapsed": 18067,
     "status": "ok",
     "timestamp": 1601203997278,
     "user": {
      "displayName": "Taichi Maeda",
      "photoUrl": "",
      "userId": "17727816757437240518"
     },
     "user_tz": -120
    },
    "id": "OtO4H5DMkyKc",
    "outputId": "12ce7f0b-eaaa-4d18-e183-29574d27902b"
   },
   "outputs": [],
   "source": [
    "%cd '/content/drive/My Drive/Colab Notebooks/EE/benchmarks/src'\n",
    "\n",
    "from experiment import Experiment\n",
    "\n",
    "for benchmark_name in ('ackley', 'bukin', 'levi', 'rastrigin', 'rosenbrock'):\n",
    "    for optimizer_name in ('adadelta', 'adagrad', 'adam', 'adamax', 'momentum', 'nadam', 'nesterov', 'rmsprop', 'sgd'):\n",
    "        experiment = Experiment(benchmark_name, optimizer_name)\n",
    "        experiment.begin()"
   ]
  }
 ],
 "metadata": {
  "colab": {
   "collapsed_sections": [],
   "machine_shape": "hm",
   "name": "main.ipynb",
   "provenance": [
    {
     "file_id": "105d0yXxfP7q--8iO0Crl8vlH6QqXEYSe",
     "timestamp": 1591850024815
    }
   ],
   "toc_visible": true
  },
  "kernelspec": {
   "display_name": "Python 3",
   "language": "python",
   "name": "python3"
  },
  "language_info": {
   "codemirror_mode": {
    "name": "ipython",
    "version": 3
   },
   "file_extension": ".py",
   "mimetype": "text/x-python",
   "name": "python",
   "nbconvert_exporter": "python",
   "pygments_lexer": "ipython3",
   "version": "3.8.2"
  }
 },
 "nbformat": 4,
 "nbformat_minor": 4
}
